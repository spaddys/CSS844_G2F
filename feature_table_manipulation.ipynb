{
 "cells": [
  {
   "cell_type": "code",
   "execution_count": 88,
   "metadata": {},
   "outputs": [],
   "source": [
    "##### Create feature table with 2023 data"
   ]
  },
  {
   "cell_type": "code",
   "execution_count": 89,
   "metadata": {},
   "outputs": [],
   "source": [
    "# requirements\n",
    "\n",
    "import pandas as pd"
   ]
  },
  {
   "cell_type": "code",
   "execution_count": 90,
   "metadata": {},
   "outputs": [],
   "source": [
    "# read in data\n",
    "\n",
    "vcf_df = pd.read_csv('/Users/madisoncreach/CSS_844/Module2/g2f_final_vcf.csv', low_memory=False)\n",
    "weather_df = pd.read_csv('/Users/madisoncreach/CSS_844/Module2/National_Weather_2023.csv')"
   ]
  },
  {
   "cell_type": "code",
   "execution_count": 91,
   "metadata": {},
   "outputs": [],
   "source": [
    "# merge two dataframes into one\n",
    "\n",
    "#feature_table = pd.concat([vcf_df, weather_df], axis=1, ignore_index=False) "
   ]
  },
  {
   "cell_type": "code",
   "execution_count": 92,
   "metadata": {},
   "outputs": [],
   "source": [
    "#feature_table.to_csv('/Users/madisoncreach/CSS_844/Module2/features.csv')"
   ]
  },
  {
   "cell_type": "code",
   "execution_count": 117,
   "metadata": {},
   "outputs": [],
   "source": [
    "# reload feature table to filter out all columns that have \"2\" in them\n",
    "vcf_df2 = pd.read_csv('/Users/madisoncreach/CSS_844/Module2/2020-2023_vcf_final.csv', low_memory=False, index_col=\"Pedigree\")"
   ]
  },
  {
   "cell_type": "code",
   "execution_count": 118,
   "metadata": {},
   "outputs": [
    {
     "name": "stdout",
     "output_type": "stream",
     "text": [
      "                        S5_216898908  S1_160878820  S4_197236918  \\\n",
      "Pedigree                                                           \n",
      "B14A/H95_2022                     -1            -1             0   \n",
      "B14A/MO17_2022                    -1            -1             1   \n",
      "B14A/OH43_2022                    -1             0             1   \n",
      "B37/H95_2022                      -1            -1            -1   \n",
      "B37/MO17_2022                     -1            -1             0   \n",
      "...                              ...           ...           ...   \n",
      "W10004_1037/PHP02_2020             0            -1             1   \n",
      "W10004_0991/PHP02_2020             1            -1             0   \n",
      "W10004_0134/PHP02_2020             1            -1             0   \n",
      "W10004_0988/PHP02_2020             0            -1             0   \n",
      "W10004_0006/PHP02_2020             1            -1             0   \n",
      "\n",
      "                        S4_157980321  S6_117819854  S5_5316857  S5_15251077  \\\n",
      "Pedigree                                                                      \n",
      "B14A/H95_2022                      1             0          -1           -1   \n",
      "B14A/MO17_2022                     0             1          -1           -1   \n",
      "B14A/OH43_2022                     1             0          -1           -1   \n",
      "B37/H95_2022                       1             0          -1           -1   \n",
      "B37/MO17_2022                      0             1          -1           -1   \n",
      "...                              ...           ...         ...          ...   \n",
      "W10004_1037/PHP02_2020            -1             1          -1           -1   \n",
      "W10004_0991/PHP02_2020            -1             0          -1           -1   \n",
      "W10004_0134/PHP02_2020             0             0          -1           -1   \n",
      "W10004_0988/PHP02_2020            -1             1          -1           -1   \n",
      "W10004_0006/PHP02_2020             0             1          -1           -1   \n",
      "\n",
      "                        S10_129000411  S8_4088046  S10_90208442  ...  \\\n",
      "Pedigree                                                         ...   \n",
      "B14A/H95_2022                       0          -1             1  ...   \n",
      "B14A/MO17_2022                     -1           0             1  ...   \n",
      "B14A/OH43_2022                      0          -1             0  ...   \n",
      "B37/H95_2022                        1           0             0  ...   \n",
      "B37/MO17_2022                       0           1             0  ...   \n",
      "...                               ...         ...           ...  ...   \n",
      "W10004_1037/PHP02_2020             -1           1             0  ...   \n",
      "W10004_0991/PHP02_2020             -1           0            -1  ...   \n",
      "W10004_0134/PHP02_2020              0           0             0  ...   \n",
      "W10004_0988/PHP02_2020             -1           0            -1  ...   \n",
      "W10004_0006/PHP02_2020             -1           0             0  ...   \n",
      "\n",
      "                        S5_222925253  S2_27952207  S5_145525481  S5_91532008  \\\n",
      "Pedigree                                                                       \n",
      "B14A/H95_2022                     -1            0             0            1   \n",
      "B14A/MO17_2022                    -1           -1             0            1   \n",
      "B14A/OH43_2022                    -1            0             0            1   \n",
      "B37/H95_2022                      -1            0             0            1   \n",
      "B37/MO17_2022                     -1           -1             0            1   \n",
      "...                              ...          ...           ...          ...   \n",
      "W10004_1037/PHP02_2020            -1           -1            -1            1   \n",
      "W10004_0991/PHP02_2020            -1           -1            -1            0   \n",
      "W10004_0134/PHP02_2020            -1           -1            -1            0   \n",
      "W10004_0988/PHP02_2020            -1           -1            -1            0   \n",
      "W10004_0006/PHP02_2020            -1           -1            -1            1   \n",
      "\n",
      "                        S3_127623411  S2_43274946  S8_1133835  S8_5303736  \\\n",
      "Pedigree                                                                    \n",
      "B14A/H95_2022                     -1           -1          -1           0   \n",
      "B14A/MO17_2022                     0           -1          -1          -1   \n",
      "B14A/OH43_2022                    -1           -1          -1          -1   \n",
      "B37/H95_2022                      -1           -1          -1           0   \n",
      "B37/MO17_2022                      0           -1          -1          -1   \n",
      "...                              ...          ...         ...         ...   \n",
      "W10004_1037/PHP02_2020            -1           -1          -1           0   \n",
      "W10004_0991/PHP02_2020            -1            0          -1           0   \n",
      "W10004_0134/PHP02_2020            -1           -1          -1           0   \n",
      "W10004_0988/PHP02_2020            -1           -1           0           0   \n",
      "W10004_0006/PHP02_2020            -1            0          -1           1   \n",
      "\n",
      "                        S3_178519029  S6_51234469  \n",
      "Pedigree                                           \n",
      "B14A/H95_2022                     -1           -1  \n",
      "B14A/MO17_2022                    -1           -1  \n",
      "B14A/OH43_2022                    -1           -1  \n",
      "B37/H95_2022                       0            0  \n",
      "B37/MO17_2022                      0            0  \n",
      "...                              ...          ...  \n",
      "W10004_1037/PHP02_2020             0            0  \n",
      "W10004_0991/PHP02_2020             0           -1  \n",
      "W10004_0134/PHP02_2020             0           -1  \n",
      "W10004_0988/PHP02_2020             0           -1  \n",
      "W10004_0006/PHP02_2020             0           -1  \n",
      "\n",
      "[2584 rows x 10000 columns]\n"
     ]
    }
   ],
   "source": [
    "print(vcf_df2)"
   ]
  },
  {
   "cell_type": "code",
   "execution_count": 119,
   "metadata": {},
   "outputs": [],
   "source": [
    "# drop all columns with bad values\n",
    "vcf_drop1 = vcf_df2.drop(columns=vcf_df2.columns[(vcf_df2 == '2/0').any()])\n",
    "vcf_drop2 = vcf_drop1.drop(columns=vcf_drop1.columns[(vcf_drop1 == '0/2').any()])\n",
    "vcf_drop3 = vcf_drop2.drop(columns=vcf_drop2.columns[(vcf_drop2 == '3/0').any()])\n",
    "vcf_drop4 = vcf_drop3.drop(columns=vcf_drop3.columns[(vcf_drop3 == '0/3').any()])"
   ]
  },
  {
   "cell_type": "code",
   "execution_count": 120,
   "metadata": {},
   "outputs": [
    {
     "name": "stdout",
     "output_type": "stream",
     "text": [
      "                        S5_216898908  S1_160878820  S4_197236918  \\\n",
      "Pedigree                                                           \n",
      "B14A/H95_2022                     -1            -1             0   \n",
      "B14A/MO17_2022                    -1            -1             1   \n",
      "B14A/OH43_2022                    -1             0             1   \n",
      "B37/H95_2022                      -1            -1            -1   \n",
      "B37/MO17_2022                     -1            -1             0   \n",
      "...                              ...           ...           ...   \n",
      "W10004_1037/PHP02_2020             0            -1             1   \n",
      "W10004_0991/PHP02_2020             1            -1             0   \n",
      "W10004_0134/PHP02_2020             1            -1             0   \n",
      "W10004_0988/PHP02_2020             0            -1             0   \n",
      "W10004_0006/PHP02_2020             1            -1             0   \n",
      "\n",
      "                        S4_157980321  S6_117819854  S5_5316857  S5_15251077  \\\n",
      "Pedigree                                                                      \n",
      "B14A/H95_2022                      1             0          -1           -1   \n",
      "B14A/MO17_2022                     0             1          -1           -1   \n",
      "B14A/OH43_2022                     1             0          -1           -1   \n",
      "B37/H95_2022                       1             0          -1           -1   \n",
      "B37/MO17_2022                      0             1          -1           -1   \n",
      "...                              ...           ...         ...          ...   \n",
      "W10004_1037/PHP02_2020            -1             1          -1           -1   \n",
      "W10004_0991/PHP02_2020            -1             0          -1           -1   \n",
      "W10004_0134/PHP02_2020             0             0          -1           -1   \n",
      "W10004_0988/PHP02_2020            -1             1          -1           -1   \n",
      "W10004_0006/PHP02_2020             0             1          -1           -1   \n",
      "\n",
      "                        S10_129000411  S8_4088046  S10_90208442  ...  \\\n",
      "Pedigree                                                         ...   \n",
      "B14A/H95_2022                       0          -1             1  ...   \n",
      "B14A/MO17_2022                     -1           0             1  ...   \n",
      "B14A/OH43_2022                      0          -1             0  ...   \n",
      "B37/H95_2022                        1           0             0  ...   \n",
      "B37/MO17_2022                       0           1             0  ...   \n",
      "...                               ...         ...           ...  ...   \n",
      "W10004_1037/PHP02_2020             -1           1             0  ...   \n",
      "W10004_0991/PHP02_2020             -1           0            -1  ...   \n",
      "W10004_0134/PHP02_2020              0           0             0  ...   \n",
      "W10004_0988/PHP02_2020             -1           0            -1  ...   \n",
      "W10004_0006/PHP02_2020             -1           0             0  ...   \n",
      "\n",
      "                        S5_222925253  S2_27952207  S5_145525481  S5_91532008  \\\n",
      "Pedigree                                                                       \n",
      "B14A/H95_2022                     -1            0             0            1   \n",
      "B14A/MO17_2022                    -1           -1             0            1   \n",
      "B14A/OH43_2022                    -1            0             0            1   \n",
      "B37/H95_2022                      -1            0             0            1   \n",
      "B37/MO17_2022                     -1           -1             0            1   \n",
      "...                              ...          ...           ...          ...   \n",
      "W10004_1037/PHP02_2020            -1           -1            -1            1   \n",
      "W10004_0991/PHP02_2020            -1           -1            -1            0   \n",
      "W10004_0134/PHP02_2020            -1           -1            -1            0   \n",
      "W10004_0988/PHP02_2020            -1           -1            -1            0   \n",
      "W10004_0006/PHP02_2020            -1           -1            -1            1   \n",
      "\n",
      "                        S3_127623411  S2_43274946  S8_1133835  S8_5303736  \\\n",
      "Pedigree                                                                    \n",
      "B14A/H95_2022                     -1           -1          -1           0   \n",
      "B14A/MO17_2022                     0           -1          -1          -1   \n",
      "B14A/OH43_2022                    -1           -1          -1          -1   \n",
      "B37/H95_2022                      -1           -1          -1           0   \n",
      "B37/MO17_2022                      0           -1          -1          -1   \n",
      "...                              ...          ...         ...         ...   \n",
      "W10004_1037/PHP02_2020            -1           -1          -1           0   \n",
      "W10004_0991/PHP02_2020            -1            0          -1           0   \n",
      "W10004_0134/PHP02_2020            -1           -1          -1           0   \n",
      "W10004_0988/PHP02_2020            -1           -1           0           0   \n",
      "W10004_0006/PHP02_2020            -1            0          -1           1   \n",
      "\n",
      "                        S3_178519029  S6_51234469  \n",
      "Pedigree                                           \n",
      "B14A/H95_2022                     -1           -1  \n",
      "B14A/MO17_2022                    -1           -1  \n",
      "B14A/OH43_2022                    -1           -1  \n",
      "B37/H95_2022                       0            0  \n",
      "B37/MO17_2022                      0            0  \n",
      "...                              ...          ...  \n",
      "W10004_1037/PHP02_2020             0            0  \n",
      "W10004_0991/PHP02_2020             0           -1  \n",
      "W10004_0134/PHP02_2020             0           -1  \n",
      "W10004_0988/PHP02_2020             0           -1  \n",
      "W10004_0006/PHP02_2020             0           -1  \n",
      "\n",
      "[2584 rows x 9878 columns]\n"
     ]
    }
   ],
   "source": [
    "print(vcf_drop4)"
   ]
  },
  {
   "cell_type": "code",
   "execution_count": 121,
   "metadata": {},
   "outputs": [],
   "source": [
    "#vcf_drop4.to_csv(\"/Users/madisoncreach/CSS_844/Module2/2020-2023_vcf_final.csv\", header=True)"
   ]
  }
 ],
 "metadata": {
  "kernelspec": {
   "display_name": "base",
   "language": "python",
   "name": "python3"
  },
  "language_info": {
   "codemirror_mode": {
    "name": "ipython",
    "version": 3
   },
   "file_extension": ".py",
   "mimetype": "text/x-python",
   "name": "python",
   "nbconvert_exporter": "python",
   "pygments_lexer": "ipython3",
   "version": "3.11.8"
  }
 },
 "nbformat": 4,
 "nbformat_minor": 2
}
